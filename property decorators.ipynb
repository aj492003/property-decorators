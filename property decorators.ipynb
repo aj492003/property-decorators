{
 "cells": [
  {
   "cell_type": "code",
   "execution_count": 6,
   "id": "a592961e-8a25-40ac-a44c-4a88a1eae6e4",
   "metadata": {},
   "outputs": [],
   "source": [
    "class pwskills :\n",
    "    \n",
    "    def __init__(self , course_price , course_name):\n",
    "        \n",
    "        self.__course_price = course_price\n",
    "        self.course_name = course_name"
   ]
  },
  {
   "cell_type": "code",
   "execution_count": 7,
   "id": "3574a37b-6bbe-4830-bda1-f91b02e548a3",
   "metadata": {},
   "outputs": [],
   "source": [
    "pw = pwskills(3500 , \"data science masters\" )"
   ]
  },
  {
   "cell_type": "code",
   "execution_count": 8,
   "id": "7c76ecd3-a0e0-4567-aff5-e42b0d6a65e0",
   "metadata": {},
   "outputs": [
    {
     "ename": "AttributeError",
     "evalue": "'pwskills' object has no attribute 'course_price'",
     "output_type": "error",
     "traceback": [
      "\u001b[0;31m---------------------------------------------------------------------------\u001b[0m",
      "\u001b[0;31mAttributeError\u001b[0m                            Traceback (most recent call last)",
      "Cell \u001b[0;32mIn[8], line 1\u001b[0m\n\u001b[0;32m----> 1\u001b[0m \u001b[43mpw\u001b[49m\u001b[38;5;241;43m.\u001b[39;49m\u001b[43mcourse_price\u001b[49m\n",
      "\u001b[0;31mAttributeError\u001b[0m: 'pwskills' object has no attribute 'course_price'"
     ]
    }
   ],
   "source": [
    "pw.course_price"
   ]
  },
  {
   "cell_type": "code",
   "execution_count": 9,
   "id": "28973dd0-37e5-41f6-9518-6643dbf8e07d",
   "metadata": {},
   "outputs": [
    {
     "data": {
      "text/plain": [
       "3500"
      ]
     },
     "execution_count": 9,
     "metadata": {},
     "output_type": "execute_result"
    }
   ],
   "source": [
    "pw._pwskills__course_price"
   ]
  },
  {
   "cell_type": "code",
   "execution_count": 10,
   "id": "97f488d4-3608-46d9-b9b5-526f4f5e77e0",
   "metadata": {},
   "outputs": [
    {
     "data": {
      "text/plain": [
       "'data science masters'"
      ]
     },
     "execution_count": 10,
     "metadata": {},
     "output_type": "execute_result"
    }
   ],
   "source": [
    "pw.course_name"
   ]
  },
  {
   "cell_type": "code",
   "execution_count": 11,
   "id": "3a1d4759-c3e1-4b57-ae29-e6fff6ea6314",
   "metadata": {},
   "outputs": [],
   "source": [
    "class pwskills1 :\n",
    "    \n",
    "    def __init__(self , course_price , course_name):\n",
    "        \n",
    "        self.__course_price = course_price\n",
    "        self.course_name = course_name\n",
    "        \n",
    "    @property \n",
    "    def course_price_access(self) :\n",
    "        return self.__course_price"
   ]
  },
  {
   "cell_type": "code",
   "execution_count": 14,
   "id": "30bf3578-f0e0-4b21-84a0-ec3214deb6dc",
   "metadata": {},
   "outputs": [],
   "source": [
    "pw1 = pwskills1(3500 , \"data science masters\" )"
   ]
  },
  {
   "cell_type": "code",
   "execution_count": 16,
   "id": "3af7f888-917d-44aa-bc19-0d625cc059bc",
   "metadata": {},
   "outputs": [
    {
     "data": {
      "text/plain": [
       "3500"
      ]
     },
     "execution_count": 16,
     "metadata": {},
     "output_type": "execute_result"
    }
   ],
   "source": [
    "pw1.course_price_access"
   ]
  },
  {
   "cell_type": "code",
   "execution_count": 17,
   "id": "57a8da5f-69d8-430e-8d2a-38a207169d56",
   "metadata": {},
   "outputs": [],
   "source": [
    "class pwskills2 :\n",
    "    \n",
    "    def __init__(self , course_price , course_name):\n",
    "        \n",
    "        self.__course_price = course_price\n",
    "        self.course_name = course_name\n",
    "        \n",
    "    @property \n",
    "    def course_price_access(self) :\n",
    "        return self.__course_price\n",
    "    \n",
    "    @course_price_access.setter   # for the modification of the price\n",
    "    def course_price_set(self , price):\n",
    "        if price <= 3500:\n",
    "            pass\n",
    "        else :\n",
    "            self.__course_price = price"
   ]
  },
  {
   "cell_type": "code",
   "execution_count": 18,
   "id": "dbf3a9f4-8327-46d4-9f3d-8fb9464da9f6",
   "metadata": {},
   "outputs": [],
   "source": [
    "pw2 = pwskills2(3500 , \"data science masters\" )"
   ]
  },
  {
   "cell_type": "code",
   "execution_count": 19,
   "id": "216dafd6-fd0d-497e-83f1-276bf4a8602c",
   "metadata": {},
   "outputs": [],
   "source": [
    "pw2.course_price_set = 4500"
   ]
  },
  {
   "cell_type": "code",
   "execution_count": 21,
   "id": "aede1763-7ff5-498d-bbfd-6dbe72030162",
   "metadata": {},
   "outputs": [
    {
     "data": {
      "text/plain": [
       "4500"
      ]
     },
     "execution_count": 21,
     "metadata": {},
     "output_type": "execute_result"
    }
   ],
   "source": [
    "pw2.course_price_access   # now it will shows the modified price of the course"
   ]
  },
  {
   "cell_type": "code",
   "execution_count": 36,
   "id": "aad11242-6d13-47c2-a6fe-df289c1af968",
   "metadata": {},
   "outputs": [],
   "source": [
    "class pwskills3 :\n",
    "    \n",
    "    def __init__(self , course_price , course_name):\n",
    "        \n",
    "        self.__course_price = course_price\n",
    "        self.course_name = course_name\n",
    "        \n",
    "    @property \n",
    "    def course_price_access(self) :\n",
    "        return self.__course_price\n",
    "    \n",
    "    @course_price_access.setter   # for the modification of the price\n",
    "    def course_price_set(self , price):\n",
    "        if price <= 3500:\n",
    "            pass\n",
    "        else :\n",
    "            self.__course_price = price\n",
    "            \n",
    "    @course_price_access.deleter\n",
    "    def delete_course_price(self) :\n",
    "        del self.__course_price"
   ]
  },
  {
   "cell_type": "code",
   "execution_count": 37,
   "id": "ae81942c-843b-40ca-a449-2defc5ea3506",
   "metadata": {},
   "outputs": [],
   "source": [
    "pw3 = pwskills3(3500 , \"data science masters\" )"
   ]
  },
  {
   "cell_type": "code",
   "execution_count": 38,
   "id": "641b082f-98b9-43fc-aaec-218bc134ec92",
   "metadata": {},
   "outputs": [
    {
     "data": {
      "text/plain": [
       "3500"
      ]
     },
     "execution_count": 38,
     "metadata": {},
     "output_type": "execute_result"
    }
   ],
   "source": [
    "pw3.course_price_access"
   ]
  },
  {
   "cell_type": "code",
   "execution_count": 39,
   "id": "675f2836-d67a-4f0c-9b60-113a5f61db71",
   "metadata": {},
   "outputs": [],
   "source": [
    "del pw3.delete_course_price"
   ]
  },
  {
   "cell_type": "code",
   "execution_count": 40,
   "id": "b7e98dd6-df7e-4e4e-a4ed-67368460cea2",
   "metadata": {},
   "outputs": [
    {
     "ename": "AttributeError",
     "evalue": "'pwskills3' object has no attribute '_pwskills3__course_price'",
     "output_type": "error",
     "traceback": [
      "\u001b[0;31m---------------------------------------------------------------------------\u001b[0m",
      "\u001b[0;31mAttributeError\u001b[0m                            Traceback (most recent call last)",
      "Cell \u001b[0;32mIn[40], line 1\u001b[0m\n\u001b[0;32m----> 1\u001b[0m \u001b[43mpw3\u001b[49m\u001b[38;5;241;43m.\u001b[39;49m\u001b[43mcourse_price_access\u001b[49m\n",
      "Cell \u001b[0;32mIn[36], line 10\u001b[0m, in \u001b[0;36mpwskills3.course_price_access\u001b[0;34m(self)\u001b[0m\n\u001b[1;32m      8\u001b[0m \u001b[38;5;129m@property\u001b[39m \n\u001b[1;32m      9\u001b[0m \u001b[38;5;28;01mdef\u001b[39;00m \u001b[38;5;21mcourse_price_access\u001b[39m(\u001b[38;5;28mself\u001b[39m) :\n\u001b[0;32m---> 10\u001b[0m     \u001b[38;5;28;01mreturn\u001b[39;00m \u001b[38;5;28;43mself\u001b[39;49m\u001b[38;5;241;43m.\u001b[39;49m\u001b[43m__course_price\u001b[49m\n",
      "\u001b[0;31mAttributeError\u001b[0m: 'pwskills3' object has no attribute '_pwskills3__course_price'"
     ]
    }
   ],
   "source": [
    "pw3.course_price_access"
   ]
  },
  {
   "cell_type": "code",
   "execution_count": null,
   "id": "5cbc8f1c-0327-45be-b995-06a2df8b5813",
   "metadata": {},
   "outputs": [],
   "source": []
  }
 ],
 "metadata": {
  "kernelspec": {
   "display_name": "Python 3 (ipykernel)",
   "language": "python",
   "name": "python3"
  },
  "language_info": {
   "codemirror_mode": {
    "name": "ipython",
    "version": 3
   },
   "file_extension": ".py",
   "mimetype": "text/x-python",
   "name": "python",
   "nbconvert_exporter": "python",
   "pygments_lexer": "ipython3",
   "version": "3.10.8"
  }
 },
 "nbformat": 4,
 "nbformat_minor": 5
}
